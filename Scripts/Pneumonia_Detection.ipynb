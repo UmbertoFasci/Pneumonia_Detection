{
 "cells": [
  {
   "attachments": {},
   "cell_type": "markdown",
   "metadata": {},
   "source": [
    "# Base Pneumonia Detection with Convolutional Neural Networks\n",
    "_Utilizing the [paper](../PDF/Detecting_Pneumonia_With_TensorFlow_and_Convolutional_Neural_Networks.pdf) provided._"
   ]
  },
  {
   "attachments": {},
   "cell_type": "markdown",
   "metadata": {},
   "source": [
    "The paper retrieved pneumonia image data from the Mendeley Data website. In particular, the \"Curated Dataset for COVID-19 Posterior-Anterior Chest Radiography Images (X-Rays)\". "
   ]
  },
  {
   "cell_type": "markdown",
   "metadata": {},
   "source": []
  }
 ],
 "metadata": {
  "kernelspec": {
   "display_name": "Python 3.10.5",
   "language": "python",
   "name": "python3"
  },
  "language_info": {
   "codemirror_mode": {
    "name": "ipython",
    "version": 3
   },
   "file_extension": ".py",
   "mimetype": "text/x-python",
   "name": "python",
   "nbconvert_exporter": "python",
   "pygments_lexer": "ipython3",
   "version": "3.9.9 | packaged by conda-forge | (main, Dec 20 2021, 02:41:07) \n[Clang 11.1.0 ]"
  },
  "orig_nbformat": 4,
  "vscode": {
   "interpreter": {
    "hash": "27a859ebf2c16647442bc52e93a69977d8a106e247be91289f4566f8700a8dab"
   }
  }
 },
 "nbformat": 4,
 "nbformat_minor": 2
}
